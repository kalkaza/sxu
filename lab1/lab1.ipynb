{
 "cells": [
  {
   "cell_type": "code",
   "execution_count": 1,
   "metadata": {},
   "outputs": [],
   "source": [
    "\"\"\"Lab 1\"\"\"\n",
    "\n",
    "import numpy as np"
   ]
  },
  {
   "cell_type": "code",
   "execution_count": 2,
   "metadata": {},
   "outputs": [
    {
     "data": {
      "text/plain": [
       "array([0., 0., 0., 0., 0., 0., 0., 0., 0., 0.])"
      ]
     },
     "execution_count": 2,
     "metadata": {},
     "output_type": "execute_result"
    }
   ],
   "source": [
    "#utwórz tablicę zawierającą 10 zer,\n",
    "np.zeros(10)"
   ]
  },
  {
   "cell_type": "code",
   "execution_count": 3,
   "metadata": {},
   "outputs": [
    {
     "data": {
      "text/plain": [
       "array([5, 5, 5, 5, 5, 5, 5, 5, 5, 5])"
      ]
     },
     "execution_count": 3,
     "metadata": {},
     "output_type": "execute_result"
    }
   ],
   "source": [
    "#utwórz tablicę zawierającą 10 piątek,\n",
    "np.full(10,5)"
   ]
  },
  {
   "cell_type": "code",
   "execution_count": 4,
   "metadata": {},
   "outputs": [
    {
     "name": "stdout",
     "output_type": "stream",
     "text": [
      "[10 11 12 13 14 15 16 17 18 19 20 21 22 23 24 25 26 27 28 29 30 31 32 33\n",
      " 34 35 36 37 38 39 40 41 42 43 44 45 46 47 48 49 50]\n"
     ]
    }
   ],
   "source": [
    "#utwórz tablicę zawierającą liczby od 10 do 50,\n",
    "array_range = np.arange(10, 51, 1)\n",
    "print(array_range)"
   ]
  },
  {
   "cell_type": "code",
   "execution_count": 5,
   "metadata": {},
   "outputs": [
    {
     "data": {
      "text/plain": [
       "array([[0, 1, 2],\n",
       "       [3, 4, 5],\n",
       "       [6, 7, 8]])"
      ]
     },
     "execution_count": 5,
     "metadata": {},
     "output_type": "execute_result"
    }
   ],
   "source": [
    "#utwórz macierz (tablica wielowymiarowa) o wymiarach 3x3 zawierającą liczby od 0 do 8,\n",
    "np.arange(0,9,1).reshape(3,3)"
   ]
  },
  {
   "cell_type": "code",
   "execution_count": 6,
   "metadata": {},
   "outputs": [
    {
     "data": {
      "text/plain": [
       "array([[1., 0., 0.],\n",
       "       [0., 1., 0.],\n",
       "       [0., 0., 1.]])"
      ]
     },
     "execution_count": 6,
     "metadata": {},
     "output_type": "execute_result"
    }
   ],
   "source": [
    "#utwórz macierz jednostkową o wymiarach 3x3,\n",
    "np.eye(3)"
   ]
  },
  {
   "cell_type": "code",
   "execution_count": 7,
   "metadata": {},
   "outputs": [
    {
     "data": {
      "text/plain": [
       "array([[-0.39096935,  0.0084926 , -0.16978716,  0.14657705,  0.38131939],\n",
       "       [-1.0404515 , -0.3349533 ,  0.2058156 , -0.40424519,  0.14396252],\n",
       "       [-0.44431773,  0.81081951,  0.46761944, -0.736759  ,  0.44006224],\n",
       "       [ 0.71215821,  0.47537853, -0.37095138, -0.58335876,  0.0562123 ],\n",
       "       [ 0.57575744,  0.78066693,  0.32384564,  0.5468536 ,  0.01009146]])"
      ]
     },
     "execution_count": 7,
     "metadata": {},
     "output_type": "execute_result"
    }
   ],
   "source": [
    "#utwórz macierz o wymiarach 5x5 zawierającą liczby z dystrybucji normalnej (Gaussa),\n",
    "np.random.normal(0, 0.5, (5,5))"
   ]
  },
  {
   "cell_type": "code",
   "execution_count": 8,
   "metadata": {},
   "outputs": [
    {
     "data": {
      "text/plain": [
       "array([[0.01, 0.02, 0.03, 0.04, 0.05, 0.06, 0.07, 0.08, 0.09, 0.1 ],\n",
       "       [0.11, 0.12, 0.13, 0.14, 0.15, 0.16, 0.17, 0.18, 0.19, 0.2 ],\n",
       "       [0.21, 0.22, 0.23, 0.24, 0.25, 0.26, 0.27, 0.28, 0.29, 0.3 ],\n",
       "       [0.31, 0.32, 0.33, 0.34, 0.35, 0.36, 0.37, 0.38, 0.39, 0.4 ],\n",
       "       [0.41, 0.42, 0.43, 0.44, 0.45, 0.46, 0.47, 0.48, 0.49, 0.5 ],\n",
       "       [0.51, 0.52, 0.53, 0.54, 0.55, 0.56, 0.57, 0.58, 0.59, 0.6 ],\n",
       "       [0.61, 0.62, 0.63, 0.64, 0.65, 0.66, 0.67, 0.68, 0.69, 0.7 ],\n",
       "       [0.71, 0.72, 0.73, 0.74, 0.75, 0.76, 0.77, 0.78, 0.79, 0.8 ],\n",
       "       [0.81, 0.82, 0.83, 0.84, 0.85, 0.86, 0.87, 0.88, 0.89, 0.9 ],\n",
       "       [0.91, 0.92, 0.93, 0.94, 0.95, 0.96, 0.97, 0.98, 0.99, 1.  ]])"
      ]
     },
     "execution_count": 8,
     "metadata": {},
     "output_type": "execute_result"
    }
   ],
   "source": [
    "#utwórz macierz o wymiarach 10x10 zawierającą liczby od 0,01 do 1 z krokiem 0,01,\n",
    "np.linspace(0.01, 1.0, 100).reshape(10, 10)"
   ]
  },
  {
   "cell_type": "code",
   "execution_count": 9,
   "metadata": {},
   "outputs": [
    {
     "data": {
      "text/plain": [
       "array([0.        , 0.05263158, 0.10526316, 0.15789474, 0.21052632,\n",
       "       0.26315789, 0.31578947, 0.36842105, 0.42105263, 0.47368421,\n",
       "       0.52631579, 0.57894737, 0.63157895, 0.68421053, 0.73684211,\n",
       "       0.78947368, 0.84210526, 0.89473684, 0.94736842, 1.        ])"
      ]
     },
     "execution_count": 9,
     "metadata": {},
     "output_type": "execute_result"
    }
   ],
   "source": [
    "#utwórz tablicę zawierającą 20 liniowo rozłożonych liczb między 0 a 1 (włącznie z 0 i 1),\n",
    "np.linspace(0, 1, 20)"
   ]
  },
  {
   "cell_type": "code",
   "execution_count": 10,
   "metadata": {},
   "outputs": [
    {
     "name": "stdout",
     "output_type": "stream",
     "text": [
      "[[ 8  8 24  5  5]\n",
      " [23 22  2 19 22]\n",
      " [ 7  7 15 12 16]\n",
      " [16 24 17  4 21]\n",
      " [15 15 15 15  8]]\n",
      "\n",
      "Suma:  345\n",
      "\n",
      "Średnia:  13.8\n",
      "\n",
      "Standardowa dewiacja:  6.693280212272605\n",
      "\n",
      "Suma każdej z kolumn:  [69 76 73 55 72]\n"
     ]
    }
   ],
   "source": [
    "#utwórz tablicę zawierającą losowe liczby z przedziału (1, 25), \n",
    "#następnie zamień ją na macierz o wymiarach 5 x 5 z tymi samymi liczbami:\n",
    "array_random = np.random.randint(2, 25, 25).reshape(5, 5)\n",
    "print(array_random)\n",
    "\n",
    "#oblicz sumę wszystkich liczb w ww. macierzy,\n",
    "print(\"\\nSuma: \", array_random.sum())\n",
    "\n",
    "#oblicz średnią wszystkich liczb w ww. macierzy,\n",
    "print(\"\\nŚrednia: \", array_random.mean())\n",
    "\n",
    "#oblicz standardową dewiację dla liczb w ww. macierzy,\n",
    "print(\"\\nStandardowa dewiacja: \", np.std(array_random))\n",
    "\n",
    "#oblicz sumę każdej kolumny ww. macierzy i zapisz ją do tablicy.\n",
    "array_sum_axis = array_random.sum(axis=0)\n",
    "print(\"\\nSuma każdej z kolumn: \", array_sum_axis)"
   ]
  },
  {
   "cell_type": "code",
   "execution_count": 11,
   "metadata": {},
   "outputs": [
    {
     "name": "stdout",
     "output_type": "stream",
     "text": [
      "[[71 48 50 88 50]\n",
      " [71 54 36 84 87]\n",
      " [33 27  4 64 57]\n",
      " [23  5 21 96 49]\n",
      " [54 52 83 21  5]]\n",
      "\n",
      "Mediana:  50.0\n",
      "\n",
      "Najmniejsza liczba:  4\n",
      "\n",
      "Najwieksza liczba:  96\n"
     ]
    }
   ],
   "source": [
    "#twórz macierz o wymiarach 5x5 zawierającą losowe liczby z przedziału (0, 100) i:\n",
    "array_5x5 = np.random.randint(1, 100, (5, 5))\n",
    "print(array_5x5)\n",
    "\n",
    "#oblicz medianę tych liczb,\n",
    "print(\"\\nMediana: \", np.median(array_5x5))\n",
    "\n",
    "#znajdź najmniejszą liczbę tej macierzy,\n",
    "print(\"\\nNajmniejsza liczba: \", array_5x5.min())\n",
    "\n",
    "#znajdź największą liczbę tej macierzy.\n",
    "print(\"\\nNajwieksza liczba: \", array_5x5.max())"
   ]
  },
  {
   "cell_type": "code",
   "execution_count": 12,
   "metadata": {},
   "outputs": [
    {
     "name": "stdout",
     "output_type": "stream",
     "text": [
      "Macierz:\n",
      " [[ 8 94 37]\n",
      " [52 78 59]\n",
      " [95 50 24]\n",
      " [64 98 54]]\n",
      "\n",
      "Transpozycja:\n",
      " [[ 8 52 95 64]\n",
      " [94 78 50 98]\n",
      " [37 59 24 54]]\n"
     ]
    }
   ],
   "source": [
    "#utwórz macierz o wymiarach różnych od siebie i większych od 1, \n",
    "#zawierającą losowe liczby z przedziału (0, 100) i dokonaj jej transpozycji,\n",
    "matrix1 = np.random.randint(1, 100, (4, 3))\n",
    "print(\"Macierz:\\n\", matrix1)\n",
    "\n",
    "print(\"\\nTranspozycja:\\n\", matrix1.T)"
   ]
  },
  {
   "cell_type": "code",
   "execution_count": 13,
   "metadata": {},
   "outputs": [
    {
     "name": "stdout",
     "output_type": "stream",
     "text": [
      "Macierz 1:\n",
      " [[0.63456309 0.13508155 0.09449811 0.93154782]\n",
      " [0.25429991 0.38386789 0.7583612  0.71156687]\n",
      " [0.93070885 0.72544556 0.32754006 0.6599125 ]\n",
      " [0.41946486 0.17857148 0.90810818 0.22545793]]\n",
      "\n",
      "Macierz 2:\n",
      " [[0.17501386 0.70884726 0.55686661]\n",
      " [0.27763525 0.97097122 0.03484871]\n",
      " [0.10824168 0.24328777 0.05070609]\n",
      " [0.67036268 0.50089827 0.22877236]]\n",
      "\n",
      "Macierz 2 - dodanie kolumny:\n",
      " [[0.17501386 0.70884726 0.55686661 0.        ]\n",
      " [0.27763525 0.97097122 0.03484871 0.        ]\n",
      " [0.10824168 0.24328777 0.05070609 0.        ]\n",
      " [0.67036268 0.50089827 0.22877236 0.        ]]\n",
      "\n",
      "Suma macierzy:\n",
      " [[0.80957695 0.84392881 0.65136472 0.93154782]\n",
      " [0.53193516 1.35483911 0.79320991 0.71156687]\n",
      " [1.03895053 0.96873333 0.37824615 0.6599125 ]\n",
      " [1.08982754 0.67946975 1.13688054 0.22545793]]\n"
     ]
    }
   ],
   "source": [
    "#utwórz dwie macierze o odpowiednich wymiarach (doczytać), większych od 2 i dodaj je do siebie,\n",
    "array1 = np.random.random((4, 4))\n",
    "array2 = np.random.random((4, 3))\n",
    "print(\"Macierz 1:\\n\", array1)\n",
    "print(\"\\nMacierz 2:\\n\", array2)\n",
    "\n",
    "array2 = np.append(array2, np.zeros((4, 1)), axis=1)\n",
    "print(\"\\nMacierz 2 - dodanie kolumny:\\n\", array2)\n",
    "print(\"\\nSuma macierzy:\\n\", array1 + array2)"
   ]
  },
  {
   "cell_type": "code",
   "execution_count": 14,
   "metadata": {},
   "outputs": [
    {
     "name": "stdout",
     "output_type": "stream",
     "text": [
      "Macierz 1:\n",
      " [[0.16224532 0.59221713 0.02483463 0.94525152]\n",
      " [0.53511776 0.3440101  0.67007512 0.30499776]\n",
      " [0.54879852 0.88569968 0.83302175 0.07862702]]\n",
      "\n",
      "Macierz 2:\n",
      " [[0.85174409 0.89877546 0.31850805]\n",
      " [0.16695834 0.06534191 0.1042793 ]\n",
      " [0.11862622 0.65175678 0.14672764]\n",
      " [0.12741621 0.16659836 0.68005697]]\n",
      "\n",
      "\n",
      "Mnozenie macierzy:\n",
      "matmul:\n",
      " [[0.36045349 0.3581822  0.75990124]\n",
      " [0.63156889 0.99096712 0.51204684]\n",
      " [0.72414742 1.10714665 0.44285505]]\n",
      "\n",
      "multiply:\n",
      " [[0.13819149 0.48095072 0.17479675]\n",
      " [0.09887559 0.02247828 0.09236014]\n",
      " [0.00294604 0.436726   0.12222731]\n",
      " [0.12044037 0.05081213 0.05347086]]\n"
     ]
    }
   ],
   "source": [
    "#utwórz dwie macierze o odpowiednich wymiarach (doczytać) różnych od siebie i większych od 2, \n",
    "#a następnie pomnóż je przez siebie za pomocą dwóch różnych funkcji (np. ‘matmul’ i ‘multiply’),\n",
    "array1 = np.random.random((3, 4))\n",
    "array2 = np.random.random((4, 3))\n",
    "print(\"Macierz 1:\\n\", array1)\n",
    "print(\"\\nMacierz 2:\\n\", array2)\n",
    "\n",
    "print (\"\\n\\nMnozenie macierzy:\\nmatmul:\\n\", np.matmul(array1, array2))\n",
    "\n",
    "print (\"\\nmultiply:\\n\", np.multiply(array1.T, array2))"
   ]
  },
  {
   "cell_type": "code",
   "execution_count": 15,
   "metadata": {},
   "outputs": [],
   "source": [
    "#dla spóźnialskich: należy krótko opisać i uruchomić wszystkie funkcje (od ‘add’ do ‘lcm’) z sekcji ‘Math operations’\n",
    "array1 = np.random.randint(1, 20, (1, 5))\n",
    "array2 = np.random.randint(1, 20, (1, 5))"
   ]
  },
  {
   "cell_type": "code",
   "execution_count": 16,
   "metadata": {},
   "outputs": [
    {
     "name": "stdout",
     "output_type": "stream",
     "text": [
      "tab1:  [[18  7  5  6 16]]\n",
      "tab2:  [[14 10  3 16 16]]\n",
      "\n",
      "Dodawanie argumentów:\n",
      " [[32 17  8 22 32]]\n",
      "\n",
      "Odejmowanie argumentów:\n",
      " [[  4  -3   2 -10   0]]\n",
      "\n",
      "Mnożenie argumentów:\n",
      " [[252  70  15  96 256]]\n",
      "\n",
      "Dzielenie z resztą argumentów:\n",
      " [[1.28571429 0.7        1.66666667 0.375      1.        ]]\n",
      "\n",
      "Logarytm sumy wykładników potęgi wejściowej:\n",
      " [[18.01814993 10.04858735  5.12692801 16.0000454  16.69314718]]\n",
      "\n",
      "Logarytm sumy wykładników potęgi wejściowej o podstawie 2:\n",
      " [[18.08746284 10.169925    5.32192809 16.00140819 17.        ]]\n",
      "\n",
      "Dzielenie z resztą argumentów:\n",
      " [[1.28571429 0.7        1.66666667 0.375      1.        ]]\n",
      "\n",
      "Zaokraglanie dzielenia do liczb calkowitych w dół:\n",
      " [[1 0 1 0 1]]\n"
     ]
    }
   ],
   "source": [
    "print(\"tab1: \", array1)\n",
    "print(\"tab2: \", array2)\n",
    "\n",
    "print(\"\\nDodawanie argumentów:\\n\", np.add(array1,array2))\n",
    "print(\"\\nOdejmowanie argumentów:\\n\", np.subtract(array1,array2))\n",
    "print(\"\\nMnożenie argumentów:\\n\", np.multiply(array1,array2))\n",
    "print(\"\\nDzielenie z resztą argumentów:\\n\", np.divide(array1,array2))\n",
    "\n",
    "print(\"\\nLogarytm sumy wykładników potęgi wejściowej:\\n\", np.logaddexp(array1,array2))\n",
    "print(\"\\nLogarytm sumy wykładników potęgi wejściowej o podstawie 2:\\n\", np.logaddexp2(array1,array2))\n",
    "print(\"\\nDzielenie z resztą argumentów:\\n\", np.true_divide(array1,array2))\n",
    "print(\"\\nZaokraglanie dzielenia do liczb calkowitych w dół:\\n\", np.floor_divide(array1,array2))\n"
   ]
  },
  {
   "cell_type": "code",
   "execution_count": 17,
   "metadata": {},
   "outputs": [
    {
     "name": "stdout",
     "output_type": "stream",
     "text": [
      "tab1:  [[18  7  5  6 16]]\n",
      "tab2:  [[14 10  3 16 16]]\n",
      "\n",
      "Negacja elementów, wartość przeciwna:\n",
      " [[-18  -7  -5  -6 -16]]\n",
      "\n",
      "Odpowiednik x.copy (), ale zdefiniowanytylko dla typów obsługujących arytmetykę:\n",
      " [[18  7  5  6 16]]\n",
      "\n",
      "Potęgowanie. Pierwsze elementy tablicypodniesione do potęg z drugiej tablicy, pod względem elementów:\n",
      " [[374813367582081024          282475249                125\n",
      "       2821109907456                  0]]\n",
      "\n",
      "Zwraca resztęz dzielenia bez znaku:\n",
      " [[4 7 2 6 0]]\n",
      "[[10  3  1 10  0]]\n",
      "\n",
      "Zwraca resztęz dzielenia bez znaku:\n",
      " [[4 7 2 6 0]]\n",
      "[[10  3  1 10  0]]\n",
      "\n",
      "Zwraca resztęz dzielenia ze znakiem:\n",
      " [[4 7 2 6 0]]\n",
      "[[-4 -7 -2 -6  0]]\n",
      "\n",
      "Zwraca iloraz elementarny i resztę jednocześnie:\n",
      " (array([[-2, -1, -2, -1, -1]]), array([[10,  3,  1, 10,  0]]))\n",
      "\n",
      "Wartość bezwzględna:\n",
      " [[18  7  5  6 16]]\n",
      "[[18  7  5  6 16]]\n",
      "[[18.  7.  5.  6. 16.]]\n"
     ]
    }
   ],
   "source": [
    "print(\"tab1: \", array1)\n",
    "print(\"tab2: \", array2)\n",
    "\n",
    "print(\"\\nNegacja elementów, wartość przeciwna:\\n\", np.negative(array1))\n",
    "print(\"\\nOdpowiednik x.copy (), ale zdefiniowany\"\\\n",
    "      \"tylko dla typów obsługujących arytmetykę:\\n\", np.positive(array1))\n",
    "print(\"\\nPotęgowanie. Pierwsze elementy tablicy\"\\\n",
    "      \"podniesione do potęg z drugiej tablicy, pod względem elementów:\\n\", np.power(array1, array2))\n",
    "\n",
    "print(\"\\nZwraca resztęz dzielenia bez znaku:\\n\", np.remainder(array1, array2))\n",
    "print(np.remainder(np.negative(array1), array2))\n",
    "print(\"\\nZwraca resztęz dzielenia bez znaku:\\n\", np.mod(array1, array2))\n",
    "print(np.mod(np.negative(array1), array2))\n",
    "print(\"\\nZwraca resztęz dzielenia ze znakiem:\\n\", np.fmod(array1, array2))\n",
    "print(np.fmod(np.negative(array1), array2))\n",
    "print(\"\\nZwraca iloraz elementarny i resztę jednocześnie:\\n\", np.divmod(np.negative(array1), array2))\n",
    "print(\"\\nWartość bezwzględna:\\n\", np.absolute(array1))\n",
    "print(np.absolute(np.negative(array1)))\n",
    "print(np.fabs(np.negative(array1)))"
   ]
  },
  {
   "cell_type": "code",
   "execution_count": 18,
   "metadata": {},
   "outputs": [
    {
     "name": "stdout",
     "output_type": "stream",
     "text": [
      "tab1:  [[18  7  5  6 16]]\n",
      "tab2:  [[14 10  3 16 16]]\n",
      "tab3:  [2.33, 4.66, -7.5]\n",
      "\n",
      "Zaokrągla elementy tablicy do najbliższej liczby całkowitej:\n",
      " [[18.  7.  5.  6. 16.]]\n",
      "[ 2.  5. -8.]\n",
      "\n",
      "Zwraca elementowe oznaczenie znaku liczby:\n",
      " [ 1.  1. -1.]\n",
      "\n",
      "Oblicza funkcję kroku Heaviside:\n",
      " [[1. 1. 1. 1. 1.]]\n",
      "\n",
      "Zwraca koniugat złożony.\n",
      "Złożony koniugat liczby zespolonej uzyskuje się poprzez zmianę znaku jego części urojonej:\n",
      " (1-2j)\n",
      "(1-2j)\n",
      "\n",
      "Oblicza wykładnik potęgowy:\n",
      " [[6.56599691e+07 1.09663316e+03 1.48413159e+02 4.03428793e+02\n",
      "  8.88611052e+06]]\n",
      "\n",
      "Podnosi 2 do podanej potęgi:\n",
      " [[2.62144e+05 1.28000e+02 3.20000e+01 6.40000e+01 6.55360e+04]]\n",
      "\n",
      "Oblicz exp (x) - 1 dla wszystkich elementów w tablicy:\n",
      " [[6.56599681e+07 1.09563316e+03 1.47413159e+02 4.02428793e+02\n",
      "  8.88610952e+06]]\n"
     ]
    }
   ],
   "source": [
    "array3 = [2.33, 4.66, -7.5]\n",
    "print(\"tab1: \", array1)\n",
    "print(\"tab2: \", array2)\n",
    "print(\"tab3: \", array3)\n",
    "\n",
    "print(\"\\nZaokrągla elementy tablicy do najbliższej liczby całkowitej:\\n\", np.rint(array1))\n",
    "print(np.rint(array3))\n",
    "print(\"\\nZwraca elementowe oznaczenie znaku liczby:\\n\", np.sign(array3))\n",
    "print(\"\\nOblicza funkcję kroku Heaviside:\\n\", np.heaviside(array1, array2))\n",
    "print(\"\\nZwraca koniugat złożony.\")\n",
    "print(\"Złożony koniugat liczby zespolonej uzyskuje się poprzez zmianę znaku jego części urojonej:\\n\",\n",
    "      np.conj(1+2j))\n",
    "print(np.conjugate(1+2j))\n",
    "print(\"\\nOblicza wykładnik potęgowy:\\n\", np.exp(array1))\n",
    "print(\"\\nPodnosi 2 do podanej potęgi:\\n\", np.exp2(array1))\n",
    "print(\"\\nOblicz exp (x) - 1 dla wszystkich elementów w tablicy:\\n\", np.expm1(array1))"
   ]
  },
  {
   "cell_type": "code",
   "execution_count": 19,
   "metadata": {},
   "outputs": [
    {
     "name": "stdout",
     "output_type": "stream",
     "text": [
      "tab1:  [[18  7  5  6 16]]\n",
      "tab2:  [[14 10  3 16 16]]\n",
      "\n",
      "Logarytm naturalny:\n",
      " [[2.89037176 1.94591015 1.60943791 1.79175947 2.77258872]]\n",
      "\n",
      "Logarytm o podstawie 2:\n",
      " [[4.169925   2.80735492 2.32192809 2.5849625  4.        ]]\n",
      "\n",
      "Logarytm o podstawie dziesiętnej:\n",
      " [[1.25527251 0.84509804 0.69897    0.77815125 1.20411998]]\n",
      "\n",
      "Zwraca logarytm naturalny jedynki plus tablicę wejściową\n",
      " [[2.94443898 2.07944154 1.79175947 1.94591015 2.83321334]]\n",
      "\n",
      "Zwraca nieujemny pierwiastek kwadratowy:\n",
      " [[4.24264069 2.64575131 2.23606798 2.44948974 4.        ]]\n",
      "\n",
      "Podnosi elementy do kwadratu:\n",
      " [[324  49  25  36 256]]\n",
      "\n",
      "Zwraca pierwiastek sześcienny:\n",
      " [[2.62074139 1.91293118 1.70997595 1.81712059 2.5198421 ]]\n",
      "\n",
      "Zwraca odwrotność argumentu:\n",
      " [1.         0.5        0.33333333 0.25       0.2        0.16666667]\n",
      "\n",
      "Zwraca największy wspólny dzielnik:\n",
      " 2\n",
      "\n",
      "Zwraca najniższą wspólną wielokrotność:\n",
      " 1909693572\n"
     ]
    }
   ],
   "source": [
    "print(\"tab1: \", array1)\n",
    "print(\"tab2: \", array2)\n",
    "\n",
    "print(\"\\nLogarytm naturalny:\\n\", np.log(array1))\n",
    "print(\"\\nLogarytm o podstawie 2:\\n\", np.log2(array1))\n",
    "print(\"\\nLogarytm o podstawie dziesiętnej:\\n\", np.log10(array1))\n",
    "print(\"\\nZwraca logarytm naturalny jedynki plus tablicę wejściową\\n\", np.log1p(array1))\n",
    "\n",
    "print(\"\\nZwraca nieujemny pierwiastek kwadratowy:\\n\", np.sqrt(array1))\n",
    "print(\"\\nPodnosi elementy do kwadratu:\\n\", np.square(array1))\n",
    "print(\"\\nZwraca pierwiastek sześcienny:\\n\", np.cbrt(array1))\n",
    "\n",
    "print(\"\\nZwraca odwrotność argumentu:\\n\", np.reciprocal([1., 2., 3., 4., 5., 6.]))\n",
    "print(\"\\nZwraca największy wspólny dzielnik:\\n\", np.gcd(456646, 8364))\n",
    "print(\"\\nZwraca najniższą wspólną wielokrotność:\\n\", np.lcm(456646, 8364))"
   ]
  },
  {
   "cell_type": "code",
   "execution_count": null,
   "metadata": {},
   "outputs": [],
   "source": []
  }
 ],
 "metadata": {
  "kernelspec": {
   "display_name": "Python 3",
   "language": "python",
   "name": "python3"
  },
  "language_info": {
   "codemirror_mode": {
    "name": "ipython",
    "version": 3
   },
   "file_extension": ".py",
   "mimetype": "text/x-python",
   "name": "python",
   "nbconvert_exporter": "python",
   "pygments_lexer": "ipython3",
   "version": "3.7.0"
  }
 },
 "nbformat": 4,
 "nbformat_minor": 2
}
